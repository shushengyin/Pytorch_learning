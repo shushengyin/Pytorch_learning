{
 "cells": [
  {
   "cell_type": "code",
   "execution_count": 6,
   "metadata": {},
   "outputs": [],
   "source": [
    "import torch  \n",
    "from torch import nn\n",
    "import sys\n",
    "sys.path.append('../') \n",
    "import utils as d2l"
   ]
  },
  {
   "cell_type": "markdown",
   "metadata": {},
   "source": [
    "# 1.读取机器翻译数据集\n",
    "- 返回的是一个迭代器、源数据的词表、目标数据的词表\n",
    "- 迭代器返回的是 每个batch的X的索引，X的有效长度（除去结尾的结束符），Y的索引，Y的有效长度\n",
    "- 有效长度的形状是一个向量，长度是batch_size,对应着当前batch中每个样本的有效长度“"
   ]
  },
  {
   "cell_type": "code",
   "execution_count": 7,
   "metadata": {},
   "outputs": [
    {
     "name": "stdout",
     "output_type": "stream",
     "text": [
      "X: tensor([[  9,  28,   5,   3,   1,   1,   1,   1],\n",
      "        [ 45,  96,   4,   3,   1,   1,   1,   1],\n",
      "        [  0,   8,  72,   4,   3,   1,   1,   1],\n",
      "        [  7, 104,   4,   3,   1,   1,   1,   1]], dtype=torch.int32)\n",
      "X的有效长度: tensor([4, 4, 5, 4])\n",
      "Y: tensor([[59,  5,  3,  1,  1,  1,  1,  1],\n",
      "        [18,  0, 28,  4,  3,  1,  1,  1],\n",
      "        [ 0, 55,  4,  3,  1,  1,  1,  1],\n",
      "        [ 6, 33, 17,  4,  3,  1,  1,  1]], dtype=torch.int32)\n",
      "Y的有效长度: tensor([3, 5, 4, 5])\n"
     ]
    }
   ],
   "source": [
    "train_iter, src_vocab, tgt_vocab = d2l.load_data_nmt(batch_size=4, num_steps=8)  \n",
    "for X, X_valid_len, Y, Y_valid_len in train_iter:  \n",
    "    print('X:', X.type(torch.int32))  \n",
    "    print('X的有效长度:', X_valid_len)  \n",
    "    print('Y:', Y.type(torch.int32))  \n",
    "    print('Y的有效长度:', Y_valid_len)  \n",
    "    break"
   ]
  },
  {
   "cell_type": "markdown",
   "metadata": {},
   "source": [
    "# 2.Encoder"
   ]
  },
  {
   "cell_type": "code",
   "execution_count": 8,
   "metadata": {},
   "outputs": [],
   "source": [
    "class Encoder(nn.Module):  \n",
    "    \"\"\"编码器-解码器架构的基本编码器接口\"\"\"  \n",
    "    def __init__(self, **kwargs):  \n",
    "      super(Encoder, self).__init__(**kwargs)  \n",
    "    def forward(self, X, *args):  \n",
    "       raise NotImplementedError"
   ]
  },
  {
   "cell_type": "markdown",
   "metadata": {},
   "source": [
    "# 2.Decoder"
   ]
  },
  {
   "cell_type": "code",
   "execution_count": 10,
   "metadata": {},
   "outputs": [],
   "source": [
    "class Decoder(nn.Module):  \n",
    "    \"\"\"编码器-解码器架构的基本解码器接口\"\"\"  \n",
    "    def __init__(self, **kwargs): \n",
    "        super(Decoder, self).__init__(**kwargs)  \n",
    "    # init_state函数：用于将编码器的输出(enc_outputs)转换为编码后的状态。\n",
    "    def init_state(self, enc_outputs, *args):  \n",
    "        raise NotImplementedError  \n",
    "    def forward(self, X, state):  \n",
    "        raise NotImplementedError"
   ]
  },
  {
   "cell_type": "markdown",
   "metadata": {},
   "source": [
    "# 3.Encoder-Decoder"
   ]
  },
  {
   "cell_type": "code",
   "execution_count": 11,
   "metadata": {},
   "outputs": [],
   "source": [
    "class EncoderDecoder(nn.Module): \n",
    "    \"\"\"编码器-解码器架构的基类\"\"\"  \n",
    "    def __init__(self, encoder, decoder, **kwargs):  \n",
    "        super(EncoderDecoder, self).__init__(**kwargs)  \n",
    "        self.encoder = encoder  \n",
    "        self.decoder = decoder  \n",
    "    def forward(self, enc_X, dec_X, *args):  \n",
    "        enc_outputs = self.encoder(enc_X, *args)  \n",
    "        dec_state = self.decoder.init_state(enc_outputs, *args)  \n",
    "        return self.decoder(dec_X, dec_state)"
   ]
  },
  {
   "attachments": {
    "image.png": {
     "image/png": "[encoded data removed]"
    }
   },
   "cell_type": "markdown",
   "metadata": {},
   "source": [
    "## 说明：在前向传播中,编码器的输出用于生成编码状态,这个状态又被解码器作为其输入的一部分。\n",
    "![image.png](attachment:image.png)"
   ]
  },
  {
   "cell_type": "markdown",
   "metadata": {},
   "source": []
  }
 ],
 "metadata": {
  "kernelspec": {
   "display_name": "RS",
   "language": "python",
   "name": "python3"
  },
  "language_info": {
   "codemirror_mode": {
    "name": "ipython",
    "version": 3
   },
   "file_extension": ".py",
   "mimetype": "text/x-python",
   "name": "python",
   "nbconvert_exporter": "python",
   "pygments_lexer": "ipython3",
   "version": "3.11.10"
  }
 },
 "nbformat": 4,
 "nbformat_minor": 2
}
