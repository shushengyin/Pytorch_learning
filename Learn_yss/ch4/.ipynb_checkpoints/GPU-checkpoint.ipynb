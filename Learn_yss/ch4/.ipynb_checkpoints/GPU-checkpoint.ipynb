{
 "cells": [
  {
   "cell_type": "code",
   "execution_count": 3,
   "id": "4242a260-0f29-4055-9acb-dce820630397",
   "metadata": {},
   "outputs": [],
   "source": [
    "import torch  \n",
    "from torch import nn"
   ]
  },
  {
   "cell_type": "markdown",
   "id": "8ec506d0-9567-4ed6-b23b-f0c355d740d3",
   "metadata": {},
   "source": [
    "## 一、查询GPU的数量"
   ]
  },
  {
   "cell_type": "code",
   "execution_count": 17,
   "id": "01674c01-0542-47b8-b974-e34d1620bd02",
   "metadata": {},
   "outputs": [
    {
     "data": {
      "text/plain": [
       "1"
      ]
     },
     "execution_count": 17,
     "metadata": {},
     "output_type": "execute_result"
    }
   ],
   "source": [
    "torch.cuda.device_count()"
   ]
  },
  {
   "cell_type": "code",
   "execution_count": 19,
   "id": "23ae604f-ee62-492c-8564-f1f13ab832f6",
   "metadata": {},
   "outputs": [],
   "source": [
    "def try_all_gpus(): #@save  \n",
    "    \"\"\"返回所有可用的GPU,如果没有GPU,则返回[cpu(),]\"\"\"  \n",
    "    devices = [torch.device(f'cuda:{i}')  for i in range(torch.cuda.device_count())]  \n",
    "    return devices if devices else [torch.device('cpu')]"
   ]
  },
  {
   "cell_type": "code",
   "execution_count": 21,
   "id": "1867b12f-f466-4e30-a617-c2647d5eefbd",
   "metadata": {},
   "outputs": [
    {
     "data": {
      "text/plain": [
       "[device(type='cuda', index=0)]"
      ]
     },
     "execution_count": 21,
     "metadata": {},
     "output_type": "execute_result"
    }
   ],
   "source": [
    "try_all_gpus()"
   ]
  },
  {
   "cell_type": "code",
   "execution_count": 23,
   "id": "21a11c02-40d2-4582-b11f-af0ddbf1b121",
   "metadata": {},
   "outputs": [],
   "source": [
    "def try_gpu(i=0): #@save  \n",
    "    \"\"\"如果存在,则返回gpu(i),否则返回cpu()\"\"\"  \n",
    "    if torch.cuda.device_count() >= i + 1:  \n",
    "        return torch.device(f'cuda:{i}')  \n",
    "    return torch.device('cpu')"
   ]
  },
  {
   "cell_type": "code",
   "execution_count": 69,
   "id": "022a47c2-499f-43a8-80dd-e76c45076744",
   "metadata": {},
   "outputs": [
    {
     "data": {
      "text/plain": [
       "device(type='cuda', index=0)"
      ]
     },
     "execution_count": 69,
     "metadata": {},
     "output_type": "execute_result"
    }
   ],
   "source": [
    "try_gpu()"
   ]
  },
  {
   "cell_type": "markdown",
   "id": "e370048e-353e-43e2-a125-5af47a9e061d",
   "metadata": {},
   "source": [
    "## 二、Tensor with GPU"
   ]
  },
  {
   "cell_type": "code",
   "execution_count": 28,
   "id": "cf11dfae-23ea-4a9c-a031-a2bc07f6811b",
   "metadata": {},
   "outputs": [],
   "source": [
    "x = torch.tensor([1, 2, 3])"
   ]
  },
  {
   "cell_type": "markdown",
   "id": "bcb26bbd-c488-44e1-b088-fce8b46347a8",
   "metadata": {},
   "source": [
    "1. 查询张量所在设备"
   ]
  },
  {
   "cell_type": "code",
   "execution_count": 31,
   "id": "0c9fc031-c59b-40a3-81e0-8f911b9e6ec7",
   "metadata": {},
   "outputs": [
    {
     "data": {
      "text/plain": [
       "device(type='cpu')"
      ]
     },
     "execution_count": 31,
     "metadata": {},
     "output_type": "execute_result"
    }
   ],
   "source": [
    "x.device"
   ]
  },
  {
   "cell_type": "markdown",
   "id": "d3a7f97b-19ed-4f5f-bf88-40d8c2fc99c3",
   "metadata": {},
   "source": [
    "2. 将张量存储在GPU上"
   ]
  },
  {
   "cell_type": "code",
   "execution_count": 34,
   "id": "2ef3f32a-fc41-4005-b2c6-f0bf4eda24e5",
   "metadata": {},
   "outputs": [
    {
     "data": {
      "text/plain": [
       "device(type='cuda', index=0)"
      ]
     },
     "execution_count": 34,
     "metadata": {},
     "output_type": "execute_result"
    }
   ],
   "source": [
    "X = torch.ones(2, 3, device=try_gpu())\n",
    "X.device"
   ]
  },
  {
   "cell_type": "code",
   "execution_count": 40,
   "id": "ebb0fc39-e2da-4135-b6ac-479265173440",
   "metadata": {},
   "outputs": [
    {
     "data": {
      "text/plain": [
       "device(type='cpu')"
      ]
     },
     "execution_count": 40,
     "metadata": {},
     "output_type": "execute_result"
    }
   ],
   "source": [
    "Y = torch.rand(2, 3, device=try_gpu(1))  \n",
    "Y.device"
   ]
  },
  {
   "cell_type": "markdown",
   "id": "1fd0ea5e-baa1-4dec-9698-e320a0b1d9dd",
   "metadata": {},
   "source": [
    "没有俩个GPU，所以Y存放在CPU上"
   ]
  },
  {
   "cell_type": "markdown",
   "id": "03c19299-56d8-459f-a2dc-9a7b209d328d",
   "metadata": {},
   "source": [
    "3. 复制"
   ]
  },
  {
   "cell_type": "code",
   "execution_count": 55,
   "id": "8dab330e-e942-4638-a0d1-796bd0d3056d",
   "metadata": {},
   "outputs": [
    {
     "ename": "RuntimeError",
     "evalue": "Expected all tensors to be on the same device, but found at least two devices, cuda:0 and cpu!",
     "output_type": "error",
     "traceback": [
      "\u001b[1;31m---------------------------------------------------------------------------\u001b[0m",
      "\u001b[1;31mRuntimeError\u001b[0m                              Traceback (most recent call last)",
      "Cell \u001b[1;32mIn[55], line 1\u001b[0m\n\u001b[1;32m----> 1\u001b[0m \u001b[43mX\u001b[49m\u001b[38;5;241;43m+\u001b[39;49m\u001b[43mY\u001b[49m\n",
      "\u001b[1;31mRuntimeError\u001b[0m: Expected all tensors to be on the same device, but found at least two devices, cuda:0 and cpu!"
     ]
    }
   ],
   "source": [
    "X+Y"
   ]
  },
  {
   "cell_type": "markdown",
   "id": "adc4a165-d4c0-4b31-93ad-2b905fa6bc6c",
   "metadata": {},
   "source": [
    "此时，X和Y不在同一个设备上，无法进行运算，接下来，将Y复制到X的设备上。"
   ]
  },
  {
   "cell_type": "code",
   "execution_count": 58,
   "id": "4603f72f-7ac3-42bc-8338-4c2af1bd0802",
   "metadata": {},
   "outputs": [
    {
     "name": "stdout",
     "output_type": "stream",
     "text": [
      "tensor([[0.9922, 0.6661, 0.9628],\n",
      "        [0.1866, 0.9670, 0.7843]])\n",
      "tensor([[0.9922, 0.6661, 0.9628],\n",
      "        [0.1866, 0.9670, 0.7843]], device='cuda:0')\n"
     ]
    }
   ],
   "source": [
    "Z= Y.cuda(0)\n",
    "print(Y)\n",
    "print(Z)"
   ]
  },
  {
   "cell_type": "markdown",
   "id": "68aea460-7e8b-4b5b-8da8-c3fa05360602",
   "metadata": {},
   "source": [
    "现在Y和X都在GPU上，可以进行运算"
   ]
  },
  {
   "cell_type": "code",
   "execution_count": 61,
   "id": "3f5a833d-aabb-4d1e-8e9a-11c0012c3745",
   "metadata": {},
   "outputs": [
    {
     "data": {
      "text/plain": [
       "tensor([[1.9922, 1.6661, 1.9628],\n",
       "        [1.1866, 1.9670, 1.7843]], device='cuda:0')"
      ]
     },
     "execution_count": 61,
     "metadata": {},
     "output_type": "execute_result"
    }
   ],
   "source": [
    "X+Z"
   ]
  },
  {
   "cell_type": "markdown",
   "id": "272c7e5b-b81d-4625-a0ea-7119bd35e757",
   "metadata": {},
   "source": [
    "## 三、神经网络与GPU"
   ]
  },
  {
   "cell_type": "code",
   "execution_count": 64,
   "id": "56daa4d0-1551-488b-ba30-15add1caf7ab",
   "metadata": {},
   "outputs": [
    {
     "data": {
      "text/plain": [
       "tensor([[-1.0294],\n",
       "        [-1.0294]], device='cuda:0', grad_fn=<AddmmBackward0>)"
      ]
     },
     "execution_count": 64,
     "metadata": {},
     "output_type": "execute_result"
    }
   ],
   "source": [
    "net = nn.Sequential(nn.Linear(3, 1))  \n",
    "net = net.to(device=try_gpu())\n",
    "net(X)"
   ]
  },
  {
   "cell_type": "code",
   "execution_count": 66,
   "id": "d14c38e7-b77f-46d2-b48f-62f6a2a55545",
   "metadata": {},
   "outputs": [
    {
     "data": {
      "text/plain": [
       "device(type='cuda', index=0)"
      ]
     },
     "execution_count": 66,
     "metadata": {},
     "output_type": "execute_result"
    }
   ],
   "source": [
    "net[0].weight.data.device"
   ]
  },
  {
   "cell_type": "markdown",
   "id": "c973d73e-1318-4ba1-a592-4d3d6b517d1f",
   "metadata": {},
   "source": [
    "模型的参数也存放在一个设备上"
   ]
  },
  {
   "cell_type": "code",
   "execution_count": null,
   "id": "1c5c887d-6a9b-446b-aac5-2d2f9a982616",
   "metadata": {},
   "outputs": [],
   "source": []
  }
 ],
 "metadata": {
  "kernelspec": {
   "display_name": "RS",
   "language": "python",
   "name": "rs"
  },
  "language_info": {
   "codemirror_mode": {
    "name": "ipython",
    "version": 3
   },
   "file_extension": ".py",
   "mimetype": "text/x-python",
   "name": "python",
   "nbconvert_exporter": "python",
   "pygments_lexer": "ipython3",
   "version": "3.11.10"
  }
 },
 "nbformat": 4,
 "nbformat_minor": 5
}
