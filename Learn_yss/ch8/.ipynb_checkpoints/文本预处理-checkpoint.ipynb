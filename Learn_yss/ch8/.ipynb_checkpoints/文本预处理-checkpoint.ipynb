{
 "cells": [
  {
   "cell_type": "code",
   "execution_count": 5,
   "id": "e3526ea9-e65e-40e6-bf2d-de30e0013616",
   "metadata": {},
   "outputs": [],
   "source": [
    "%matplotlib inline  \n",
    "import torch \n",
    "from torch import nn\n",
    "import collections  \n",
    "import re\n",
    "import sys\n",
    "sys.path.append('../') \n",
    "import utils as d2l"
   ]
  },
  {
   "cell_type": "code",
   "execution_count": 16,
   "id": "3aac2a93-8951-4734-b4ea-3aeb0198fb2d",
   "metadata": {},
   "outputs": [
    {
     "name": "stdout",
     "output_type": "stream",
     "text": [
      "# 文本总行数: 3221\n",
      "the time machine by h g wells\n",
      "twinkled and his usually pale face was flushed and animated the\n",
      "of man\n"
     ]
    }
   ],
   "source": [
    "#@save  \n",
    "d2l.DATA_HUB['time_machine'] = (d2l.DATA_URL + 'timemachine.txt',  '090b5e7e70c295757f55df93cb0a180b9691891a')  \n",
    "def read_time_machine(): #@save  \n",
    "    \"\"\"将时间机器数据集加载到文本行的列表中\"\"\" \n",
    "    \"\"\"忽略标点符号和字母大小写\"\"\"\n",
    "    with open(d2l.download('time_machine'), 'r') as f:  \n",
    "        lines = f.readlines()  \n",
    "    return [re.sub('[^A-Za-z]+', ' ', line).strip().lower() for line in lines]  \n",
    "lines = read_time_machine() \n",
    "print(f'# 文本总行数: {len(lines)}')  \n",
    "print(lines[0])  \n",
    "print(lines[10])\n",
    "print(lines[len(lines)-1])"
   ]
  },
  {
   "cell_type": "markdown",
   "id": "0d6935c4-7711-4ff3-94e7-45d7ba91e795",
   "metadata": {},
   "source": [
    "1. 词元化"
   ]
  },
  {
   "cell_type": "code",
   "execution_count": 19,
   "id": "80982aab-323f-48f0-87a7-261df86d6cad",
   "metadata": {},
   "outputs": [],
   "source": [
    "def tokenize(lines, token='word'): #@save \n",
    "    \"\"\"将文本行拆分为单词或字符词元\"\"\"  \n",
    "    if token == 'word':  \n",
    "        return [line.split() for line in lines]  \n",
    "    elif token == 'char':  \n",
    "        return [list(line) for line in lines]  \n",
    "    else:  print('错误:未知词元类型:' + token)"
   ]
  },
  {
   "cell_type": "code",
   "execution_count": 102,
   "id": "0c5bcae3-a635-417a-909a-be916b72b9c8",
   "metadata": {},
   "outputs": [],
   "source": [
    "tokens = tokenize(lines) #默认为单词为基本单位分割\n",
    "tokens_ = tokenize(lines,token=\"char\") "
   ]
  },
  {
   "cell_type": "markdown",
   "id": "8dca3c12-5b04-42f0-802c-e16dfb8056f7",
   "metadata": {},
   "source": [
    "2. 词表vocabulary:对一个语料库进行统计，然后产生一个索引字典"
   ]
  },
  {
   "cell_type": "markdown",
   "id": "0a9bb1ad-2fb6-4db0-9efb-ba1cc9aacc65",
   "metadata": {},
   "source": [
    "使用时光机器数据集作为语料库来构建词表,然后打印前几个高频词元及其索引。"
   ]
  },
  {
   "cell_type": "code",
   "execution_count": 106,
   "id": "15c64d1e-7cec-4cfb-ab9c-0ae25d6ec76e",
   "metadata": {},
   "outputs": [
    {
     "name": "stdout",
     "output_type": "stream",
     "text": [
      "4580\n",
      "[('<unk>', 0), ('the', 1), ('i', 2), ('and', 3), ('of', 4), ('a', 5), ('to', 6), ('was', 7), ('in', 8), ('that', 9)]\n"
     ]
    }
   ],
   "source": [
    "vocab = d2l.Vocab(tokens) \n",
    "print(len(vocab))\n",
    "print(list(vocab.token_to_idx.items())[:10])"
   ]
  },
  {
   "cell_type": "code",
   "execution_count": 114,
   "id": "7c586b79-04f0-47bc-a107-b2fef0fb8fbe",
   "metadata": {},
   "outputs": [
    {
     "name": "stdout",
     "output_type": "stream",
     "text": [
      "28\n",
      "[('<unk>', 0), (' ', 1), ('e', 2), ('t', 3), ('a', 4), ('i', 5), ('n', 6), ('o', 7), ('s', 8), ('h', 9), ('r', 10), ('d', 11), ('l', 12), ('m', 13), ('u', 14), ('c', 15), ('f', 16), ('w', 17), ('g', 18), ('y', 19), ('p', 20), ('b', 21), ('v', 22), ('k', 23), ('x', 24), ('z', 25), ('j', 26), ('q', 27)]\n"
     ]
    }
   ],
   "source": [
    "vocab = d2l.Vocab(tokens_) \n",
    "print(len(vocab))\n",
    "print(list(vocab.token_to_idx.items())[:29])"
   ]
  },
  {
   "cell_type": "code",
   "execution_count": 116,
   "id": "30fb6b68-dc81-48be-96f5-f9d87f772ab9",
   "metadata": {},
   "outputs": [
    {
     "name": "stdout",
     "output_type": "stream",
     "text": [
      "文本: ['the', 'time', 'machine', 'by', 'h', 'g', 'wells']\n",
      "索引: [0, 0, 0, 0, 9, 18, 0]\n",
      "文本: ['twinkled', 'and', 'his', 'usually', 'pale', 'face', 'was', 'flushed', 'and', 'animated', 'the']\n",
      "索引: [0, 0, 0, 0, 0, 0, 0, 0, 0, 0, 0]\n"
     ]
    }
   ],
   "source": [
    "for i in [0, 10]:  \n",
    "    print('文本:', tokens[i])  \n",
    "    print('索引:', vocab[tokens[i]])"
   ]
  },
  {
   "cell_type": "code",
   "execution_count": 121,
   "id": "610a5e28-e514-451d-8d9d-065881137d5f",
   "metadata": {},
   "outputs": [
    {
     "name": "stdout",
     "output_type": "stream",
     "text": [
      "28\n",
      "[('<unk>', 0), (' ', 1), ('e', 2), ('t', 3), ('a', 4), ('i', 5), ('n', 6), ('o', 7), ('s', 8), ('h', 9), ('r', 10), ('d', 11), ('l', 12), ('m', 13), ('u', 14), ('c', 15), ('f', 16), ('w', 17), ('g', 18), ('y', 19), ('p', 20), ('b', 21), ('v', 22), ('k', 23), ('x', 24), ('z', 25), ('j', 26), ('q', 27)]\n"
     ]
    }
   ],
   "source": [
    "corpus, vocabs = d2l.load_corpus_time_machine()#返回时光机器数据集的词元索引列表(按照数据集中字符出现的顺序对应的索引表）和词表(字符出现的频率）\n",
    "print(len(vocabs))\n",
    "print(list(vocabs.token_to_idx.items())[:29])"
   ]
  },
  {
   "cell_type": "markdown",
   "id": "844e2837-b2b0-47c8-94a6-613e8d3ba468",
   "metadata": {},
   "source": [
    "- cropus: the taken of dataset by char\n",
    "- vocabs: the vocabulary  by char"
   ]
  }
 ],
 "metadata": {
  "kernelspec": {
   "display_name": "RS",
   "language": "python",
   "name": "rs"
  },
  "language_info": {
   "codemirror_mode": {
    "name": "ipython",
    "version": 3
   },
   "file_extension": ".py",
   "mimetype": "text/x-python",
   "name": "python",
   "nbconvert_exporter": "python",
   "pygments_lexer": "ipython3",
   "version": "3.11.10"
  }
 },
 "nbformat": 4,
 "nbformat_minor": 5
}
