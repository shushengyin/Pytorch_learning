{
 "cells": [
  {
   "cell_type": "code",
   "execution_count": 1,
   "id": "51a66748-973b-4c32-ae94-3c8063c52972",
   "metadata": {},
   "outputs": [],
   "source": [
    "import torch  \n",
    "from torch import nn  \n",
    "import sys\n",
    "sys.path.append('../') \n",
    "import utils as d2l"
   ]
  },
  {
   "cell_type": "markdown",
   "id": "9a899839-9d4d-47d9-a785-ac5377ca64ec",
   "metadata": {},
   "source": [
    "## 一、在LeNet上使用BN "
   ]
  },
  {
   "cell_type": "code",
   "execution_count": 8,
   "id": "d59203ae-8efd-4413-8016-ab840fc00935",
   "metadata": {},
   "outputs": [],
   "source": [
    "net = nn.Sequential(  \n",
    "    nn.Conv2d(1, 6, kernel_size=5), nn.BatchNorm2d(6), nn.Sigmoid(),  \n",
    "    nn.AvgPool2d(kernel_size=2, stride=2),  \n",
    "    nn.Conv2d(6, 16, kernel_size=5), nn.BatchNorm2d(16), nn.Sigmoid(),  \n",
    "    nn.AvgPool2d(kernel_size=2, stride=2),\n",
    "    nn.Flatten(),  \n",
    "    nn.Linear(256, 120), nn.BatchNorm1d(120), nn.Sigmoid(),  \n",
    "    nn.Linear(120, 84), nn.BatchNorm1d(84), nn.Sigmoid(),  \n",
    "    nn.Linear(84, 10))"
   ]
  },
  {
   "cell_type": "markdown",
   "id": "131becae-245a-4084-835b-64ec6e534398",
   "metadata": {},
   "source": [
    "nn.BatchNorm2d(num_features):参数num_features说明：\n",
    "- 全连接层:(batch_size,num_features),\n",
    "- 在卷积层:(batch_size,num_features,h,w)这里num_channels为num_features"
   ]
  }
 ],
 "metadata": {
  "kernelspec": {
   "display_name": "RS",
   "language": "python",
   "name": "rs"
  },
  "language_info": {
   "codemirror_mode": {
    "name": "ipython",
    "version": 3
   },
   "file_extension": ".py",
   "mimetype": "text/x-python",
   "name": "python",
   "nbconvert_exporter": "python",
   "pygments_lexer": "ipython3",
   "version": "3.11.10"
  }
 },
 "nbformat": 4,
 "nbformat_minor": 5
}
