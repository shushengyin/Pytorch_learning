{
 "cells": [
  {
   "cell_type": "code",
   "execution_count": 1,
   "id": "f2686069-85a7-41a0-bf06-151306c9ead5",
   "metadata": {},
   "outputs": [],
   "source": [
    "import torch  \n",
    "from torch import nn  \n",
    "from torch.nn import functional as F\n",
    "import sys\n",
    "sys.path.append('../') \n",
    "import utils as d2l"
   ]
  },
  {
   "cell_type": "markdown",
   "id": "7fcce788-7017-4989-a3ab-b60cad250007",
   "metadata": {},
   "source": [
    "## 一、Dense Block"
   ]
  },
  {
   "cell_type": "markdown",
   "id": "64121c64-9719-4bb0-a5e2-37659f490364",
   "metadata": {},
   "source": [
    "1. 定义一个卷积块，“BN-激活-卷积”的架构"
   ]
  },
  {
   "cell_type": "code",
   "execution_count": 33,
   "id": "d83f4123-1490-417e-b48c-2e3bd24bf2fd",
   "metadata": {},
   "outputs": [],
   "source": [
    "def conv_block(input_channels, num_channels):  \n",
    "    return nn.Sequential(  \n",
    "        nn.BatchNorm2d(input_channels), \n",
    "        nn.ReLU(),  \n",
    "        nn.Conv2d(input_channels, num_channels, kernel_size=3, padding=1))"
   ]
  },
  {
   "cell_type": "markdown",
   "id": "ae1493a5-6a63-4a94-bf35-c90c5b4c779b",
   "metadata": {},
   "source": [
    "- one conv_block will change the channels,but it will not change the w/h;"
   ]
  },
  {
   "cell_type": "markdown",
   "id": "676cf128-9650-4a84-a758-a4c722eea1f2",
   "metadata": {},
   "source": [
    "2. 定义DenseBlock:连接输入和输出"
   ]
  },
  {
   "cell_type": "code",
   "execution_count": 95,
   "id": "5d20be45-1713-443d-9eea-cba867a43176",
   "metadata": {},
   "outputs": [],
   "source": [
    "class DenseBlock(nn.Module):  \n",
    "    def __init__(self, num_convs, input_channels, growth_rate):  \n",
    "        super(DenseBlock, self).__init__()  \n",
    "        layer = []  \n",
    "        for i in range(num_convs):  \n",
    "            layer.append(conv_block(  \n",
    "                growth_rate * i + input_channels, growth_rate))  \n",
    "        self.net = nn.Sequential(*layer)  \n",
    "    def forward(self, X):\n",
    "        for blk in self.net:  \n",
    "            Y = blk(X)  \n",
    "            # 连接通道维度上每个块的输入和输出  \n",
    "            X = torch.cat((X, Y), dim=1)  #对将X的通道数和Y的通道数进行拼接\n",
    "        return X"
   ]
  },
  {
   "cell_type": "markdown",
   "id": "4222dea9-fbbe-4d01-884e-7cd4cb038432",
   "metadata": {},
   "source": [
    "- num_convs: the number of conv_block; only change channels\n",
    "- input_channels: the channels of input\n",
    "- growth_rate: every num_convs will increase num_channels,\n",
    "- out_channels= input_channels+num_convs*growth rate"
   ]
  },
  {
   "cell_type": "code",
   "execution_count": 98,
   "id": "67270646-d2d6-4077-b224-a56ff7cbb1a9",
   "metadata": {},
   "outputs": [],
   "source": [
    "blk = DenseBlock(2, 3, 10)  "
   ]
  },
  {
   "cell_type": "markdown",
   "id": "17d5532b-012f-496d-9be5-519d7e31c3ec",
   "metadata": {},
   "source": [
    "two conv_block:\n",
    "- first ->conv_block(3,10)\n",
    "- second->conv_block(13,10)\n",
    "the changes of channels :\n",
    "- first-> Y->conv_block(x_channel,num_channels)->num_channels; X->cat(X+Y)->x_channel_new1=x_channel+1*num_channels=13\n",
    "- second->Y->conv_block(x_channel_new1(x_channel+1*num_channels),num_channels)->num_channels; X->cat(X+Y)->x_channel_new2=x_channel_new1+1*num_channels=x_channel+2*channels"
   ]
  },
  {
   "cell_type": "markdown",
   "id": "8e2b9b2d-86a7-4b4a-a9b7-8de2d91adbb9",
   "metadata": {},
   "source": [
    "in this blk,it will make channels form 3->3+2*10=23,w/h will not change"
   ]
  },
  {
   "cell_type": "code",
   "execution_count": 102,
   "id": "73b283e1-585d-458f-b96c-bdda0f24e24b",
   "metadata": {},
   "outputs": [
    {
     "data": {
      "text/plain": [
       "torch.Size([4, 23, 8, 8])"
      ]
     },
     "execution_count": 102,
     "metadata": {},
     "output_type": "execute_result"
    }
   ],
   "source": [
    "X = torch.randn(4, 3, 8, 8)  \n",
    "Y = blk(X)  \n",
    "Y.shape"
   ]
  },
  {
   "cell_type": "markdown",
   "id": "a00a6e55-68fc-4da7-b8e6-637836f75af7",
   "metadata": {},
   "source": [
    "## 二、transition layer"
   ]
  },
  {
   "cell_type": "code",
   "execution_count": 134,
   "id": "c1b03a7c-4ec1-430c-a384-745969244a53",
   "metadata": {},
   "outputs": [],
   "source": [
    "#def transition_block(input_channels, num_channels):  \n",
    "   # return nn.Sequential(  nn.BatchNorm2d(input_channels), nn.ReLU(),  nn.Conv2d(input_channels, num_channels, kernel_size=1),  nn.AvgPool2d(kernel_size=2, stride=2))"
   ]
  },
  {
   "cell_type": "code",
   "execution_count": 141,
   "id": "8d7f77ec-c2b8-4a57-a939-8b8efbe9e607",
   "metadata": {},
   "outputs": [],
   "source": [
    "class transition_block(nn.Module):  \n",
    "    def __init__(self, input_channels, num_channels):  \n",
    "        super(transition_block, self).__init__()   \n",
    "        self.net = nn.Sequential(nn.BatchNorm2d(input_channels), \n",
    "        nn.ReLU(),  \n",
    "        nn.Conv2d(input_channels, num_channels, kernel_size=1),  \n",
    "        nn.AvgPool2d(kernel_size=2, stride=2))  \n",
    "    def forward(self, X):\n",
    "        return self.net(X)"
   ]
  },
  {
   "cell_type": "markdown",
   "id": "3d9d3fef-4a81-44ac-82d7-775c47606db4",
   "metadata": {},
   "source": [
    "- 控制模型的复杂度，通过1x1的卷积来控制通道数，AvgPool2d使w和h->w/2和h/2;\n",
    "- change channels and one block will make h/w->h/2 /w/2"
   ]
  },
  {
   "cell_type": "code",
   "execution_count": 144,
   "id": "f3fb34a0-2d24-4591-9331-55367aeab4f9",
   "metadata": {},
   "outputs": [
    {
     "data": {
      "text/plain": [
       "torch.Size([4, 10, 4, 4])"
      ]
     },
     "execution_count": 144,
     "metadata": {},
     "output_type": "execute_result"
    }
   ],
   "source": [
    "blk = transition_block(23, 10)  \n",
    "blk(Y).shape"
   ]
  },
  {
   "cell_type": "markdown",
   "id": "191f95c4-f324-4644-801f-ed077fc80bfb",
   "metadata": {},
   "source": [
    "- channels: 23->10\n",
    "- w/h->w/2、h/2:(8,8)->(4,4)"
   ]
  },
  {
   "cell_type": "markdown",
   "id": "c16d142c-15d0-4252-befc-01813272c892",
   "metadata": {},
   "source": [
    "## 三、DenseNet"
   ]
  },
  {
   "cell_type": "code",
   "execution_count": 158,
   "id": "1f272f9b-ec19-48f1-b85a-4b9341e6db88",
   "metadata": {},
   "outputs": [],
   "source": [
    "# input 1x224x224\n",
    "b1 = nn.Sequential(  \n",
    "    nn.Conv2d(1, 64, kernel_size=7, stride=2, padding=3),  #64x112x112\n",
    "    nn.BatchNorm2d(64), nn.ReLU(),  \n",
    "    nn.MaxPool2d(kernel_size=3, stride=2, padding=1))#64x56x56"
   ]
  },
  {
   "cell_type": "code",
   "execution_count": 160,
   "id": "8634e225-d50d-4fe6-8ce5-329953622f54",
   "metadata": {},
   "outputs": [],
   "source": [
    "# num_channels为当前的通道数  \n",
    "num_channels, growth_rate = 64, 32  \n",
    "num_convs_in_dense_blocks = [4, 4, 4, 4]  #the num_convs of every dense_block\n",
    "blks = []  \n",
    "for i, num_convs in enumerate(num_convs_in_dense_blocks):  \n",
    "    blks.append(DenseBlock(num_convs, num_channels, growth_rate))\n",
    "    # #out_channels=num_channels+num_convs*growth_rate\n",
    "    num_channels += num_convs * growth_rate  \n",
    "    # 在稠密块之间添加一个转换层,使通道数量减半  \n",
    "    if i != len(num_convs_in_dense_blocks) - 1:  \n",
    "        blks.append(transition_block(num_channels, num_channels // 2))  #//整除\n",
    "        num_channels = num_channels // 2"
   ]
  },
  {
   "cell_type": "markdown",
   "id": "ea74c854-4ae4-4356-90c3-64cedb497d3c",
   "metadata": {},
   "source": [
    "blks:four DenseBlock and three transition\n",
    "- DenseBlock1：64x56x56->64+32*4x56x56\n",
    "- transition_block1:192x56x56->96x28x28\n",
    "- DenseBlock2：96x28x28->96+32*4x28x28\n",
    "- transition_block2:224x28x28->112x14x14\n",
    "- DenseBlock3：112x14x14->112+32*4x14x14\n",
    "- transition_block3:240x14x14->120x7x7\n",
    "- DenseBlock4：120x7x7->120+32*4x7x7=248x7x7"
   ]
  },
  {
   "cell_type": "code",
   "execution_count": 153,
   "id": "fa1b0960-cd57-405d-b5aa-15f430b3c3e7",
   "metadata": {},
   "outputs": [],
   "source": [
    "net = nn.Sequential(  \n",
    "    b1, *blks,  \n",
    "    nn.BatchNorm2d(num_channels), \n",
    "    nn.ReLU(),  \n",
    "    nn.AdaptiveAvgPool2d((1, 1)),  \n",
    "    nn.Flatten(),  \n",
    "    nn.Linear(num_channels, 10))"
   ]
  },
  {
   "cell_type": "code",
   "execution_count": 162,
   "id": "2de9eeaf-364f-40fb-a9c2-24934c5e33c1",
   "metadata": {},
   "outputs": [
    {
     "name": "stdout",
     "output_type": "stream",
     "text": [
      "Sequential output shape:\t torch.Size([1, 64, 56, 56])\n",
      "DenseBlock output shape:\t torch.Size([1, 192, 56, 56])\n",
      "transition_block output shape:\t torch.Size([1, 96, 28, 28])\n",
      "DenseBlock output shape:\t torch.Size([1, 224, 28, 28])\n",
      "transition_block output shape:\t torch.Size([1, 112, 14, 14])\n",
      "DenseBlock output shape:\t torch.Size([1, 240, 14, 14])\n",
      "transition_block output shape:\t torch.Size([1, 120, 7, 7])\n",
      "DenseBlock output shape:\t torch.Size([1, 248, 7, 7])\n",
      "BatchNorm2d output shape:\t torch.Size([1, 248, 7, 7])\n",
      "ReLU output shape:\t torch.Size([1, 248, 7, 7])\n",
      "AdaptiveAvgPool2d output shape:\t torch.Size([1, 248, 1, 1])\n",
      "Flatten output shape:\t torch.Size([1, 248])\n",
      "Linear output shape:\t torch.Size([1, 10])\n"
     ]
    }
   ],
   "source": [
    "X = torch.rand(size=(1, 1, 224, 224))  \n",
    "for layer in net:  \n",
    "    X = layer(X)  \n",
    "    print(layer.__class__.__name__,'output shape:\\t', X.shape)"
   ]
  }
 ],
 "metadata": {
  "kernelspec": {
   "display_name": "RS",
   "language": "python",
   "name": "rs"
  },
  "language_info": {
   "codemirror_mode": {
    "name": "ipython",
    "version": 3
   },
   "file_extension": ".py",
   "mimetype": "text/x-python",
   "name": "python",
   "nbconvert_exporter": "python",
   "pygments_lexer": "ipython3",
   "version": "3.11.10"
  }
 },
 "nbformat": 4,
 "nbformat_minor": 5
}
