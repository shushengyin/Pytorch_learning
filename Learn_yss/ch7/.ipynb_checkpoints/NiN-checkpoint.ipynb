{
 "cells": [
  {
   "cell_type": "code",
   "execution_count": 1,
   "id": "b9519b7c-4880-49fa-abb5-0bb401dbd32c",
   "metadata": {},
   "outputs": [],
   "source": [
    "import torch  \n",
    "from torch import nn\n",
    "import sys\n",
    "sys.path.append('../') \n",
    "import utils as d2l"
   ]
  },
  {
   "cell_type": "markdown",
   "id": "73798aa4-42ed-4f7f-a748-f2b024b66312",
   "metadata": {},
   "source": [
    "## 一、创建一个NiN_block"
   ]
  },
  {
   "cell_type": "code",
   "execution_count": 28,
   "id": "3b586423-965e-49a3-9aac-cd286fc477d1",
   "metadata": {},
   "outputs": [],
   "source": [
    "def nin_block(in_channels, out_channels, kernel_size, strides, padding):  \n",
    "    return nn.Sequential(  \n",
    "        nn.Conv2d(in_channels, out_channels, kernel_size, strides, padding),  nn.ReLU(),  \n",
    "        nn.Conv2d(out_channels, out_channels, kernel_size=1), nn.ReLU(),  \n",
    "        nn.Conv2d(out_channels, out_channels, kernel_size=1), nn.ReLU()\n",
    "    )"
   ]
  },
  {
   "cell_type": "markdown",
   "id": "1e7ece52-5aa1-4227-a4d6-b1b9cc62b377",
   "metadata": {},
   "source": [
    "## 二、构造NiN网络"
   ]
  },
  {
   "cell_type": "code",
   "execution_count": 31,
   "id": "8bf4617c-0587-42e4-beb9-d848bfcd42d3",
   "metadata": {},
   "outputs": [],
   "source": [
    "net = nn.Sequential(  \n",
    "    nin_block(1, 96, kernel_size=11, strides=4, padding=0),  nn.MaxPool2d(3, stride=2),  \n",
    "    nin_block(96, 256, kernel_size=5, strides=1, padding=2),  nn.MaxPool2d(3, stride=2),  \n",
    "    nin_block(256, 384, kernel_size=3, strides=1, padding=1),  nn.MaxPool2d(3, stride=2),  \n",
    "    nn.Dropout(0.5), #最后一个nin_block相当于一个全连接层\n",
    "    # 标签类别数是10  \n",
    "    nin_block(384, 10, kernel_size=3, strides=1, padding=1),  \n",
    "    nn.AdaptiveAvgPool2d((1, 1)),  # 将四维的输出转成二维的输出,其形状为(批量大小,10)  \n",
    "    nn.Flatten())"
   ]
  },
  {
   "cell_type": "code",
   "execution_count": 33,
   "id": "28f677c3-6a17-4c85-97d8-2a0620689041",
   "metadata": {},
   "outputs": [
    {
     "name": "stdout",
     "output_type": "stream",
     "text": [
      "Sequential output shape:\t torch.Size([1, 96, 54, 54])\n",
      "MaxPool2d output shape:\t torch.Size([1, 96, 26, 26])\n",
      "Sequential output shape:\t torch.Size([1, 256, 26, 26])\n",
      "MaxPool2d output shape:\t torch.Size([1, 256, 12, 12])\n",
      "Sequential output shape:\t torch.Size([1, 384, 12, 12])\n",
      "MaxPool2d output shape:\t torch.Size([1, 384, 5, 5])\n",
      "Dropout output shape:\t torch.Size([1, 384, 5, 5])\n",
      "Sequential output shape:\t torch.Size([1, 10, 5, 5])\n",
      "AdaptiveAvgPool2d output shape:\t torch.Size([1, 10, 1, 1])\n",
      "Flatten output shape:\t torch.Size([1, 10])\n"
     ]
    }
   ],
   "source": [
    "X = torch.rand(size=(1, 1, 224, 224))  \n",
    "for layer in net:  \n",
    "    X = layer(X)  \n",
    "    print(layer.__class__.__name__,'output shape:\\t', X.shape)"
   ]
  }
 ],
 "metadata": {
  "kernelspec": {
   "display_name": "RS",
   "language": "python",
   "name": "rs"
  },
  "language_info": {
   "codemirror_mode": {
    "name": "ipython",
    "version": 3
   },
   "file_extension": ".py",
   "mimetype": "text/x-python",
   "name": "python",
   "nbconvert_exporter": "python",
   "pygments_lexer": "ipython3",
   "version": "3.11.10"
  }
 },
 "nbformat": 4,
 "nbformat_minor": 5
}
